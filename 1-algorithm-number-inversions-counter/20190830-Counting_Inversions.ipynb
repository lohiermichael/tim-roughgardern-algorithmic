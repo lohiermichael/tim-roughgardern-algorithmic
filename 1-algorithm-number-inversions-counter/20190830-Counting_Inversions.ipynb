{
 "cells": [
  {
   "cell_type": "markdown",
   "metadata": {},
   "source": [
    "# Counting inversions\n",
    "\n",
    "In this noteobok, we are going to test the different strategies for the problem of counting the number of inversions in a list of integers.\n",
    "\n",
    "Let's set a list of integers: <br>\n",
    "- with values 0...10000\n",
    "- we are going to make variate the number of element of the list"
   ]
  },
  {
   "cell_type": "code",
   "execution_count": 1,
   "metadata": {},
   "outputs": [],
   "source": [
    "import counting_inversions.lib.algorithm_input as ai\n",
    "from typing import *"
   ]
  },
  {
   "cell_type": "code",
   "execution_count": 2,
   "metadata": {},
   "outputs": [],
   "source": [
    "l_test = ai.InputList(l_length=5, min_value=0, max_value=3, is_distinct=False)"
   ]
  },
  {
   "cell_type": "markdown",
   "metadata": {},
   "source": [
    "## Brute force"
   ]
  },
  {
   "cell_type": "code",
   "execution_count": 3,
   "metadata": {},
   "outputs": [
    {
     "name": "stdout",
     "output_type": "stream",
     "text": [
      "The test list is: [2, 2, 0, 2, 2]\n",
      "The number of inversversions is equal to 2\n"
     ]
    }
   ],
   "source": [
    "print(\"The test list is:\", l_test)\n",
    "def brute_force(L):\n",
    "    n_inversions = 0\n",
    "    n = len(L)\n",
    "    for i in range(n):\n",
    "        for j in range(i+1, n):\n",
    "            if L[i] > L[j]:\n",
    "                n_inversions +=1\n",
    "    return n_inversions\n",
    "\n",
    "print(f'The number of inversversions is equal to {brute_force(l_test)}')"
   ]
  },
  {
   "cell_type": "markdown",
   "metadata": {},
   "source": [
    "## Brute force recursive"
   ]
  },
  {
   "cell_type": "code",
   "execution_count": 4,
   "metadata": {},
   "outputs": [
    {
     "name": "stdout",
     "output_type": "stream",
     "text": [
      "The test list is: [2, 2, 0, 2, 2]\n",
      "The number of inversversions is equal to 2\n"
     ]
    }
   ],
   "source": [
    "print(\"The test list is:\", l_test)\n",
    "def brute_force_rec(L):\n",
    "    n_inversions_step = 0\n",
    "    first_elmt = L[0]\n",
    "    L_drop = L[1:]\n",
    "    n_drop = len(L_drop)\n",
    "    if n_drop == 0:\n",
    "        return 0\n",
    "    else:\n",
    "        for i in range(n_drop):\n",
    "            if first_elmt > L_drop[i]:\n",
    "                n_inversions_step +=1\n",
    "        return n_inversions_step + brute_force_rec(L_drop)\n",
    "\n",
    "\n",
    "    \n",
    "print(f'The number of inversversions is equal to {brute_force_rec(l_test)}')\n"
   ]
  },
  {
   "cell_type": "markdown",
   "metadata": {},
   "source": [
    "## Tim's method\n",
    "---------------\n",
    "His method is recursive ..."
   ]
  },
  {
   "cell_type": "code",
   "execution_count": 5,
   "metadata": {},
   "outputs": [
    {
     "name": "stdout",
     "output_type": "stream",
     "text": [
      "The test list is: [2, 2, 0, 2, 2]\n",
      "The number of inversversions is equal to 2\n"
     ]
    }
   ],
   "source": [
    "print(\"The test list is:\", l_test)\n",
    "\n",
    "\n",
    "def count_inversions_sort(L):\n",
    "    \"\"\"\n",
    "    This function takes a function as an input\n",
    "    and returns the sorted function as well as its number of inversions\n",
    "    Parameters\n",
    "    ----------\n",
    "    L (list)\n",
    "\n",
    "    Returns\n",
    "    -------\n",
    "    Tuple(int, list)\n",
    "    \"\"\"\n",
    "\n",
    "    # Divide L in 2\n",
    "    n = len(L)\n",
    "\n",
    "    if n <= 1:\n",
    "        return 0, L\n",
    "\n",
    "    else:\n",
    "        n_half = int(n / 2)\n",
    "        L_left = L[:n_half]\n",
    "        L_right = L[n_half:]\n",
    "\n",
    "        # The results of recursion\n",
    "        n_inversions_left, L_left_sorted = count_inversions_sort(L_left)\n",
    "        n_inversions_right, L_right_sorted = count_inversions_sort(L_right)\n",
    "\n",
    "        # The future outputs\n",
    "        L_merge = []\n",
    "        n_inversions_merge = 0\n",
    "\n",
    "        i_left = 0\n",
    "        i_right = 0\n",
    "        while not (i_left == len(L_left_sorted) and i_right == len(L_right_sorted)):\n",
    "            if i_left == len(L_left_sorted):\n",
    "                L_merge.append(L_right_sorted[i_right])\n",
    "                i_right += 1\n",
    "            elif i_right == len(L_right_sorted):\n",
    "                L_merge.append(L_left_sorted[i_left])\n",
    "                i_left += 1\n",
    "\n",
    "            elif L_left_sorted[i_left] <= L_right_sorted[i_right]:\n",
    "                L_merge.append(L_left_sorted[i_left])\n",
    "                i_left += 1\n",
    "            elif L_left_sorted[i_left] > L_right_sorted[i_right]:\n",
    "                L_merge.append(L_right_sorted[i_right])\n",
    "                i_right += 1\n",
    "                n_inversions_merge += len(L_left_sorted) - i_left\n",
    "\n",
    "        n_inversions_total = n_inversions_left + n_inversions_right + n_inversions_merge\n",
    "\n",
    "        return n_inversions_total, L_merge\n",
    "\n",
    "    \n",
    "def tim_inversions_count(L):\n",
    "    n_inversions, L_sorted = count_inversions_sort(L)\n",
    "    return n_inversions\n",
    "\n",
    "print(f'The number of inversversions is equal to {tim_inversions_count(l_test)}')"
   ]
  },
  {
   "cell_type": "code",
   "execution_count": null,
   "metadata": {},
   "outputs": [],
   "source": []
  },
  {
   "cell_type": "code",
   "execution_count": null,
   "metadata": {},
   "outputs": [],
   "source": []
  },
  {
   "cell_type": "code",
   "execution_count": null,
   "metadata": {},
   "outputs": [],
   "source": []
  },
  {
   "cell_type": "code",
   "execution_count": null,
   "metadata": {},
   "outputs": [],
   "source": []
  },
  {
   "cell_type": "code",
   "execution_count": null,
   "metadata": {},
   "outputs": [],
   "source": []
  },
  {
   "cell_type": "code",
   "execution_count": null,
   "metadata": {},
   "outputs": [],
   "source": []
  },
  {
   "cell_type": "code",
   "execution_count": null,
   "metadata": {},
   "outputs": [],
   "source": []
  },
  {
   "cell_type": "code",
   "execution_count": null,
   "metadata": {},
   "outputs": [],
   "source": []
  },
  {
   "cell_type": "code",
   "execution_count": null,
   "metadata": {},
   "outputs": [],
   "source": []
  },
  {
   "cell_type": "code",
   "execution_count": null,
   "metadata": {},
   "outputs": [],
   "source": []
  },
  {
   "cell_type": "code",
   "execution_count": null,
   "metadata": {},
   "outputs": [],
   "source": []
  },
  {
   "cell_type": "code",
   "execution_count": null,
   "metadata": {},
   "outputs": [],
   "source": []
  },
  {
   "cell_type": "code",
   "execution_count": null,
   "metadata": {},
   "outputs": [],
   "source": []
  },
  {
   "cell_type": "code",
   "execution_count": null,
   "metadata": {},
   "outputs": [],
   "source": []
  },
  {
   "cell_type": "code",
   "execution_count": null,
   "metadata": {},
   "outputs": [],
   "source": []
  },
  {
   "cell_type": "code",
   "execution_count": null,
   "metadata": {},
   "outputs": [],
   "source": []
  },
  {
   "cell_type": "code",
   "execution_count": null,
   "metadata": {},
   "outputs": [],
   "source": []
  },
  {
   "cell_type": "code",
   "execution_count": null,
   "metadata": {},
   "outputs": [],
   "source": []
  }
 ],
 "metadata": {
  "kernelspec": {
   "display_name": "Python 3",
   "language": "python",
   "name": "python3"
  },
  "language_info": {
   "codemirror_mode": {
    "name": "ipython",
    "version": 3
   },
   "file_extension": ".py",
   "mimetype": "text/x-python",
   "name": "python",
   "nbconvert_exporter": "python",
   "pygments_lexer": "ipython3",
   "version": "3.7.4"
  }
 },
 "nbformat": 4,
 "nbformat_minor": 2
}
